{
 "cells": [
  {
   "cell_type": "code",
   "execution_count": 3,
   "metadata": {},
   "outputs": [
    {
     "name": "stdout",
     "output_type": "stream",
     "text": [
      "它的数据模型主要是以节点和关系(边)来体现，也可以处理键值对\n",
      "它的优点是能快速解决复杂的关系问题\n"
     ]
    }
   ],
   "source": [
    "import re\n",
    "string = '图数据库的基本含义是以“图”这种数据结构存储和查询数据。它的数据模型主要是以节点和关系(边)来体现，也可以处理键值对。它的优点是能快速解决复杂的关系问题。'\n",
    "regex = '它的'\n",
    "p_str = string.split(\"。\")\n",
    "for line in p_str:\n",
    "    # 查询匹配某个字符\n",
    "    if re.search(regex, line) is not None:\n",
    "        print(line)"
   ]
  },
  {
   "cell_type": "code",
   "execution_count": null,
   "metadata": {},
   "outputs": [],
   "source": []
  }
 ],
 "metadata": {
  "kernelspec": {
   "display_name": "Python 3",
   "language": "python",
   "name": "python3"
  },
  "language_info": {
   "codemirror_mode": {
    "name": "ipython",
    "version": 3
   },
   "file_extension": ".py",
   "mimetype": "text/x-python",
   "name": "python",
   "nbconvert_exporter": "python",
   "pygments_lexer": "ipython3",
   "version": "3.7.6"
  }
 },
 "nbformat": 4,
 "nbformat_minor": 4
}
