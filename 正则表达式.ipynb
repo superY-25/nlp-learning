{
 "cells": [
  {
   "cell_type": "code",
   "execution_count": 4,
   "metadata": {},
   "outputs": [],
   "source": [
    "import re"
   ]
  },
  {
   "cell_type": "code",
   "execution_count": 11,
   "metadata": {},
   "outputs": [],
   "source": [
    "def printStr(p_str):\n",
    "    for line in p_str:\n",
    "        if re.search(regex, line) is not None:\n",
    "            print(line)"
   ]
  },
  {
   "cell_type": "code",
   "execution_count": 12,
   "metadata": {},
   "outputs": [
    {
     "name": "stdout",
     "output_type": "stream",
     "text": [
      "它的数据模型主要是以节点和关系(边)来体现，也可以处理键值对\n",
      "它的优点是能快速解决复杂的关系问题\n"
     ]
    }
   ],
   "source": [
    "# 查询匹配某个字符\n",
    "string = '图数据库的基本含义是以“图”这种数据结构存储和查询数据。它的数据模型主要是以节点和关系(边)来体现，也可以处理键值对。它的优点是能快速解决复杂的关系问题。'\n",
    "regex = '它的'\n",
    "p_str = string.split(\"。\")\n",
    "printStr(p_str)"
   ]
  },
  {
   "cell_type": "code",
   "execution_count": 13,
   "metadata": {},
   "outputs": [
    {
     "name": "stdout",
     "output_type": "stream",
     "text": [
      "它的数据模型主要是以节点和关系(边)来体现，也可以处理键值对\n"
     ]
    }
   ],
   "source": [
    "# 匹配任意字符 用（.）符号代表任意字符且一个（.）符号代表一个字符\n",
    "regex = '它.数据'\n",
    "printStr(p_str)"
   ]
  },
  {
   "cell_type": "code",
   "execution_count": 17,
   "metadata": {},
   "outputs": [
    {
     "name": "stdout",
     "output_type": "stream",
     "text": [
      "图数据库的基本含义是以“图”这种数据结构存储和查询数据\n"
     ]
    }
   ],
   "source": [
    "# 匹配起始和结束字符 模板：^开始\n",
    "regex = '^图数据库'\n",
    "printStr(p_str)"
   ]
  },
  {
   "cell_type": "code",
   "execution_count": 20,
   "metadata": {},
   "outputs": [
    {
     "name": "stdout",
     "output_type": "stream",
     "text": [
      "它的数据模型主要是以节点和关系(边)来体现，也可以处理键值对\n"
     ]
    }
   ],
   "source": [
    "# 匹配起始和结束字符 模板：$结束\n",
    "regex = '对$'\n",
    "printStr(p_str)"
   ]
  },
  {
   "cell_type": "code",
   "execution_count": 22,
   "metadata": {},
   "outputs": [
    {
     "name": "stdout",
     "output_type": "stream",
     "text": [
      "它的数据模型主要是以节点和关系(边)来体现，也可以处理键值对\n",
      "它的优点是能快速解决复杂的关系问题\n"
     ]
    }
   ],
   "source": [
    "# 使用[]匹配多个字符 如 '[重紧]要的' 可以匹配 '重要的'和'紧要的'两个字符\n",
    "regex = '的[数优]'\n",
    "printStr(p_str)"
   ]
  },
  {
   "cell_type": "code",
   "execution_count": 25,
   "metadata": {},
   "outputs": [
    {
     "name": "stdout",
     "output_type": "stream",
     "text": [
      "match it\n"
     ]
    }
   ],
   "source": [
    "# 转义字符的使用 \\\n",
    "'''\n",
    "re.search(r\"\\\\\", 'I have one nee\\dle') 也可以写成 re.search(\"\\\\\\\\\", 'I have one nee\\dle')\n",
    "'''\n",
    "if re.search(r\"\\\\\", 'I have one nee\\dle') is not None:\n",
    "    print('match it')\n",
    "else:\n",
    "    print('not match it')\n"
   ]
  },
  {
   "cell_type": "code",
   "execution_count": null,
   "metadata": {},
   "outputs": [],
   "source": [
    "# 抽取文本中的数字\n"
   ]
  }
 ],
 "metadata": {
  "kernelspec": {
   "display_name": "Python 3",
   "language": "python",
   "name": "python3"
  },
  "language_info": {
   "codemirror_mode": {
    "name": "ipython",
    "version": 3
   },
   "file_extension": ".py",
   "mimetype": "text/x-python",
   "name": "python",
   "nbconvert_exporter": "python",
   "pygments_lexer": "ipython3",
   "version": "3.7.6"
  }
 },
 "nbformat": 4,
 "nbformat_minor": 4
}
